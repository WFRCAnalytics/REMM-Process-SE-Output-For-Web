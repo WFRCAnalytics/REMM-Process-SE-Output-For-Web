{
 "cells": [
  {
   "cell_type": "code",
   "execution_count": 74,
   "metadata": {},
   "outputs": [],
   "source": [
    "import os\n",
    "import keyring\n",
    "import glob\n",
    "from ftplib import FTP\n",
    "from arcgis import GIS\n",
    "# from arcgis.features import GeoAccessor\n",
    "# from arcgis.features import GeoSeriesAccessor\n",
    "# from arcgis.features import FeatureLayerCollection\n",
    "# from arcgis.features import FeatureLayer\n"
   ]
  },
  {
   "cell_type": "markdown",
   "metadata": {},
   "source": [
    "# Toggles"
   ]
  },
  {
   "cell_type": "code",
   "execution_count": null,
   "metadata": {},
   "outputs": [],
   "source": [
    "# Switch to false to disable\n",
    "update_maps = False\n",
    "update_charts = False"
   ]
  },
  {
   "cell_type": "markdown",
   "metadata": {},
   "source": [
    "# Update files in arcgis online"
   ]
  },
  {
   "cell_type": "code",
   "execution_count": 2,
   "metadata": {},
   "outputs": [],
   "source": [
    "# Sign into ArcGIS Online\n",
    "un = 'analytics_wfrc'\n",
    "pw = keyring.get_password('AGSServicesStatus', 'Analytics AGOL')\n",
    "gis = GIS(username=un, password=pw)"
   ]
  },
  {
   "cell_type": "code",
   "execution_count": 36,
   "metadata": {},
   "outputs": [],
   "source": [
    "# store path to the new data\n",
    "cityarea_zip = r\".\\Outputs\\map\\CITYAREA.gdb.zip\"\n",
    "county_zip = r\".\\Outputs\\map\\COUNTY.gdb.zip\"\n",
    "distmed_zip = r\".\\Outputs\\map\\DISTMED.gdb.zip\"\n",
    "otherarea_zip = r\".\\Outputs\\map\\OTHERAREA.gdb.zip\"\n",
    "taz_zip = r\".\\Outputs\\map\\TAZ.gdb.zip\""
   ]
  },
  {
   "cell_type": "code",
   "execution_count": 37,
   "metadata": {},
   "outputs": [],
   "source": [
    "# store item ids\n",
    "cityarea_item_id = '265bfbe2cae7490196e230eced9109b2'\n",
    "county_item_id = 'cb97017428fe470280fd015b4d7d61bf'\n",
    "distmed_item_id = 'bdf485e1e5e94c16b08b2464bc4f50a5'\n",
    "otherarea_item_id = '56ae4b1483e54eff932c24127d496f46'\n",
    "taz_item_id = '844f78208e604aabb0d14d5ae827712d'"
   ]
  },
  {
   "cell_type": "code",
   "execution_count": null,
   "metadata": {},
   "outputs": [],
   "source": [
    "# get the item using the id\n",
    "cityarea_item = gis.content.get(cityarea_item_id)\n",
    "county_item = gis.content.get(county_item_id)\n",
    "distmed_item = gis.content.get(distmed_item_id)\n",
    "otherarea_item = gis.content.get(otherarea_item_id)\n",
    "taz_item = gis.content.get(taz_item_id)"
   ]
  },
  {
   "cell_type": "code",
   "execution_count": null,
   "metadata": {},
   "outputs": [],
   "source": [
    "if update_maps == True:\n",
    "    \n",
    "    # update the data source, then republish\n",
    "    cityarea_item.update(data=cityarea_zip)\n",
    "    cityarea_item.publish(overwrite=True)\n",
    "\n",
    "    county_item.update(data=county_zip)\n",
    "    county_item.publish(overwrite=True)\n",
    "\n",
    "    distmed_item.update(data=distmed_zip)\n",
    "    distmed_item.publish(overwrite=True)\n",
    "\n",
    "    otherarea_item.update(data=otherarea_zip)\n",
    "    otherarea_item.publish(overwrite=True)\n",
    "\n",
    "    taz_item.update(data=taz_zip)\n",
    "    taz_item.publish(overwrite=True)"
   ]
  },
  {
   "cell_type": "code",
   "execution_count": 3,
   "metadata": {},
   "outputs": [],
   "source": [
    "# ## Access the feature layer as a GIS content item\n",
    "# item_id = 'adf71d1f547b4a5581afc41328deeebd'\n",
    "# item = gis.content.get(item_id)\n",
    "# # feature_layer = item.layers[0]\n",
    "\n",
    "# v1 = r\"E:\\Projects\\REMM-Process-SE-Output-For-Web\\Outputs\\C_TEST_1.gdb.zip\"\n",
    "# v2 = r\"E:\\Projects\\REMM-Process-SE-Output-For-Web\\Outputs\\New\\C_TEST_1.gdb.zip\"\n",
    "\n",
    "# item.update(data=v2)\n",
    "# item.publish(overwrite=True)"
   ]
  },
  {
   "cell_type": "markdown",
   "metadata": {},
   "source": [
    "# Update files on server"
   ]
  },
  {
   "cell_type": "code",
   "execution_count": 76,
   "metadata": {},
   "outputs": [
    {
     "data": {
      "text/plain": [
       "'230 OK. Current restricted directory is /'"
      ]
     },
     "execution_count": 76,
     "metadata": {},
     "output_type": "execute_result"
    }
   ],
   "source": [
    "local_chart_folder = r'.\\Outputs\\chart'\n",
    "un2= 'wfrcorg'\n",
    "pw2 = keyring.get_password('AGSServicesStatus', 'WFRC File Server')\n",
    "ip = keyring.get_password('AGSServicesStatus', 'WFRC File Server IP')\n",
    "ftp = FTP(ip)\n",
    "ftp.login(user=un2, passwd =pw2)"
   ]
  },
  {
   "cell_type": "code",
   "execution_count": null,
   "metadata": {},
   "outputs": [],
   "source": [
    "if update_charts == True:\n",
    "    geogs = ['CITYAREA', 'COUNTY', 'DISTMED', 'OTHERAREA', 'TAZ']\n",
    "\n",
    "    for geog in geogs:\n",
    "        ftp.cwd(f'/public_html/household-job-forecast-map/widgets/SESidebar/data/chart/{geog}')\n",
    "        \n",
    "        old_jsons = [item for item in ftp.nlst() if item not in ['.','..'] and item.endswith('.json')]\n",
    "        print('deleting old jsons...')\n",
    "        for json in old_jsons:\n",
    "            print(json)\n",
    "            ftp.delete(json)\n",
    "\n",
    "        print('uploading new jsons...')\n",
    "        new_jsons = glob.glob(os.path.join(local_chart_folder, geog, '*.json'))\n",
    "        for json in new_jsons:\n",
    "            with open(json,'rb') as file:\n",
    "                ftp.storlines(os.path.basename(json), file)"
   ]
  },
  {
   "cell_type": "code",
   "execution_count": null,
   "metadata": {},
   "outputs": [],
   "source": [
    "# close the connection\n",
    "ftp.quit()"
   ]
  }
 ],
 "metadata": {
  "kernelspec": {
   "display_name": "Python 3.7.11",
   "language": "python",
   "name": "python3"
  },
  "language_info": {
   "codemirror_mode": {
    "name": "ipython",
    "version": 3
   },
   "file_extension": ".py",
   "mimetype": "text/x-python",
   "name": "python",
   "nbconvert_exporter": "python",
   "pygments_lexer": "ipython3",
   "version": "3.7.11"
  },
  "orig_nbformat": 4,
  "vscode": {
   "interpreter": {
    "hash": "3245673af07dcc28bdd829afb187282e9288a1f8195a5928b70ecba6e5973721"
   }
  }
 },
 "nbformat": 4,
 "nbformat_minor": 2
}
