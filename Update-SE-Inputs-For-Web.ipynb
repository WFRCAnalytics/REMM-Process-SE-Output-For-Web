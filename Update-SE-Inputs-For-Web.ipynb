{
 "cells": [
  {
   "cell_type": "code",
   "execution_count": 1,
   "metadata": {},
   "outputs": [],
   "source": [
    "import os\n",
    "import keyring\n",
    "import glob\n",
    "from ftplib import FTP\n",
    "from arcgis import GIS"
   ]
  },
  {
   "cell_type": "markdown",
   "metadata": {},
   "source": [
    "# Toggles"
   ]
  },
  {
   "cell_type": "code",
   "execution_count": 2,
   "metadata": {},
   "outputs": [],
   "source": [
    "# Switch to false to disable\n",
    "update_maps = True\n",
    "update_charts = True"
   ]
  },
  {
   "cell_type": "markdown",
   "metadata": {},
   "source": [
    "# Update files in arcgis online"
   ]
  },
  {
   "cell_type": "code",
   "execution_count": 3,
   "metadata": {},
   "outputs": [],
   "source": [
    "# Sign into ArcGIS Online\n",
    "un = 'analytics_wfrc'\n",
    "pw = keyring.get_password('Analytics AGOL', un)\n",
    "gis = GIS(username=un, password=pw)"
   ]
  },
  {
   "cell_type": "code",
   "execution_count": 4,
   "metadata": {},
   "outputs": [],
   "source": [
    "# store path to the new data\n",
    "cityarea_zip = r\".\\Outputs\\map\\CITYAREA.gdb.zip\"\n",
    "county_zip = r\".\\Outputs\\map\\COUNTY.gdb.zip\"\n",
    "distmed_zip = r\".\\Outputs\\map\\DISTMED.gdb.zip\"\n",
    "otherarea_zip = r\".\\Outputs\\map\\OTHERAREA.gdb.zip\"\n",
    "taz_zip = r\".\\Outputs\\map\\TAZ.gdb.zip\""
   ]
  },
  {
   "cell_type": "code",
   "execution_count": 5,
   "metadata": {},
   "outputs": [],
   "source": [
    "# store item ids\n",
    "cityarea_item_id = '265bfbe2cae7490196e230eced9109b2'\n",
    "county_item_id = 'cb97017428fe470280fd015b4d7d61bf'\n",
    "distmed_item_id = 'bdf485e1e5e94c16b08b2464bc4f50a5'\n",
    "otherarea_item_id = '56ae4b1483e54eff932c24127d496f46'\n",
    "taz_item_id = '844f78208e604aabb0d14d5ae827712d'"
   ]
  },
  {
   "cell_type": "code",
   "execution_count": 6,
   "metadata": {},
   "outputs": [],
   "source": [
    "def update_and_republish_item(id, new_zip):\n",
    "    item = gis.content.get(id)\n",
    "    name = item['title']\n",
    "\n",
    "    # update the data source\n",
    "    print(f'Updating data source for {name}...')\n",
    "    item.update(data=new_zip) # store this result and test, while loop?\n",
    "\n",
    "    # republish the feature layer(s)\n",
    "    print(f'Publishing {name}...')\n",
    "    status = 0\n",
    "    attempts = 0\n",
    "    attempts_allowed = 15\n",
    "\n",
    "    while status == 0:\n",
    "        if attempts < attempts_allowed:\n",
    "            attempts = attempts + 1\n",
    "            try:\n",
    "                item.publish(overwrite=True)\n",
    "            except:\n",
    "                print(f'--Failed to publish {name} after {attempts} attempts. Trying again...')\n",
    "            else:\n",
    "                status = 1\n",
    "                print(f'--Successfully published {name} after {attempts} attempt(s)!')             \n",
    "        else:\n",
    "            status = 2\n",
    "            raise Exception(f'--Error: Failed to publish {name} after {attempts} attempts!')\n"
   ]
  },
  {
   "cell_type": "code",
   "execution_count": 7,
   "metadata": {},
   "outputs": [
    {
     "name": "stdout",
     "output_type": "stream",
     "text": [
      "Updating data source for CITYAREA_gdb...\n",
      "Publishing CITYAREA_gdb...\n",
      "--Successfully published CITYAREA_gdb after 1 attempt(s)!\n",
      "Updating data source for COUNTY_gdb...\n",
      "Publishing COUNTY_gdb...\n",
      "--Successfully published COUNTY_gdb after 1 attempt(s)!\n",
      "Updating data source for DISTMED_gdb...\n",
      "Publishing DISTMED_gdb...\n",
      "--Successfully published DISTMED_gdb after 1 attempt(s)!\n",
      "Updating data source for OTHERAREA_gdb...\n",
      "Publishing OTHERAREA_gdb...\n",
      "--Successfully published OTHERAREA_gdb after 1 attempt(s)!\n",
      "Updating data source for TAZ_gdb...\n",
      "Publishing TAZ_gdb...\n",
      "--Successfully published TAZ_gdb after 1 attempt(s)!\n"
     ]
    }
   ],
   "source": [
    "if update_maps == True:\n",
    "    \n",
    "    # update the data source, then republish\n",
    "    update_and_republish_item(cityarea_item_id, cityarea_zip)\n",
    "    update_and_republish_item(county_item_id, county_zip)\n",
    "    update_and_republish_item(distmed_item_id, distmed_zip)\n",
    "    update_and_republish_item(otherarea_item_id, otherarea_zip)\n",
    "    update_and_republish_item(taz_item_id, taz_zip)"
   ]
  },
  {
   "cell_type": "markdown",
   "metadata": {},
   "source": [
    "# Update files on server"
   ]
  },
  {
   "cell_type": "code",
   "execution_count": 10,
   "metadata": {},
   "outputs": [
    {
     "data": {
      "text/plain": [
       "'230 OK. Current restricted directory is /'"
      ]
     },
     "execution_count": 10,
     "metadata": {},
     "output_type": "execute_result"
    }
   ],
   "source": [
    "local_chart_folder = r'.\\Outputs\\chart'\n",
    "un2= 'wfrcorg'\n",
    "pw2 = keyring.get_password('WFRC File Server', un2)\n",
    "ip = keyring.get_password('WFRC File Server IP', un2)\n",
    "ftp = FTP(ip, timeout=1200)\n",
    "ftp.login(user=un2, passwd =pw2)"
   ]
  },
  {
   "cell_type": "code",
   "execution_count": 11,
   "metadata": {},
   "outputs": [
    {
     "name": "stdout",
     "output_type": "stream",
     "text": [
      "deleting old jsons (CITYAREA)...\n",
      "uploading new jsons (CITYAREA)...\n",
      "deleting old jsons (COUNTY)...\n",
      "uploading new jsons (COUNTY)...\n",
      "deleting old jsons (DISTMED)...\n",
      "uploading new jsons (DISTMED)...\n",
      "deleting old jsons (OTHERAREA)...\n",
      "uploading new jsons (OTHERAREA)...\n",
      "deleting old jsons (TAZ)...\n",
      "uploading new jsons (TAZ)...\n"
     ]
    }
   ],
   "source": [
    "if update_charts == True:\n",
    "    geogs = ['CITYAREA', 'COUNTY', 'DISTMED', 'OTHERAREA', 'TAZ']\n",
    "\n",
    "    for geog in geogs:\n",
    "        ftp.cwd(f'/public_html/household-job-forecast-map/widgets/SESidebar/data/chart/{geog}')\n",
    "        \n",
    "        old_jsons = [item for item in ftp.nlst() if item not in ['.','..'] and item.endswith('.json')]\n",
    "        if len(old_jsons) > 0:\n",
    "            print(f'deleting old jsons ({geog})...')\n",
    "            for json in old_jsons:\n",
    "                # print(json)\n",
    "                ftp.delete(json)\n",
    "        else:\n",
    "            print(f'no jsons to delete ({geog})...')\n",
    "\n",
    "        print(f'uploading new jsons ({geog})...')\n",
    "        new_jsons = glob.glob(os.path.join(local_chart_folder, geog, '*.json'))\n",
    "        \n",
    "        for json in new_jsons:\n",
    "            #print(json)\n",
    "            with open(json,'rb') as file:\n",
    "                ftp.storbinary('STOR ' + os.path.basename(json), file)"
   ]
  },
  {
   "cell_type": "markdown",
   "metadata": {},
   "source": [
    "# Update Downloable dataset on server"
   ]
  },
  {
   "cell_type": "code",
   "execution_count": 12,
   "metadata": {},
   "outputs": [],
   "source": [
    "ftp.cwd(f'/public_html/MapsData/SocioEconomicData')\n",
    "ftp.delete('WFRC_SE_FORECAST_2019_2050_DRAFT.zip')\n",
    "\n",
    "zip_for_download = r\".\\Outputs\\WFRC_SE_FORECAST_2019_2050_DRAFT.zip\"\n",
    "with open(zip_for_download,'rb') as file:\n",
    "                ftp.storbinary('STOR ' + os.path.basename(zip_for_download), file)"
   ]
  },
  {
   "cell_type": "code",
   "execution_count": 13,
   "metadata": {},
   "outputs": [
    {
     "data": {
      "text/plain": [
       "'221-Goodbye. You uploaded 73508 and downloaded 0 kbytes.\\n221 Logout.'"
      ]
     },
     "execution_count": 13,
     "metadata": {},
     "output_type": "execute_result"
    }
   ],
   "source": [
    "# close the connection\n",
    "ftp.quit()"
   ]
  }
 ],
 "metadata": {
  "kernelspec": {
   "display_name": "Python 3.7.11",
   "language": "python",
   "name": "python3"
  },
  "language_info": {
   "codemirror_mode": {
    "name": "ipython",
    "version": 3
   },
   "file_extension": ".py",
   "mimetype": "text/x-python",
   "name": "python",
   "nbconvert_exporter": "python",
   "pygments_lexer": "ipython3",
   "version": "3.7.11"
  },
  "orig_nbformat": 4,
  "vscode": {
   "interpreter": {
    "hash": "3245673af07dcc28bdd829afb187282e9288a1f8195a5928b70ecba6e5973721"
   }
  }
 },
 "nbformat": 4,
 "nbformat_minor": 2
}
