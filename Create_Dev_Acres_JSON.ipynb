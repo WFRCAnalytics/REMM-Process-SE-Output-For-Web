{
 "cells": [
  {
   "cell_type": "code",
   "execution_count": 1,
   "metadata": {},
   "outputs": [],
   "source": [
    "import arcpy\n",
    "from arcpy import env\n",
    "import os\n",
    "import numpy as np\n",
    "from arcgis import GIS\n",
    "from arcgis.features import GeoAccessor\n",
    "from arcgis.features import GeoSeriesAccessor\n",
    "import pandas as pd\n",
    "\n",
    "arcpy.env.overwriteOutput = True\n",
    "arcpy.env.parallelProcessingFactor = \"90%\"\n",
    "\n",
    "# show all columns\n",
    "pd.options.display.max_columns = None\n",
    "\n",
    "# pd.DataFrame.spatial.from_featureclass(???)  \n",
    "# df.spatial.to_featureclass(location=???,sanitize_columns=False)  \n",
    "\n",
    "# gsa = arcgis.features.GeoSeriesAccessor(df['SHAPE'])  \n",
    "# df['AREA'] = gsa.area  # KNOW YOUR UNITS"
   ]
  },
  {
   "cell_type": "code",
   "execution_count": 2,
   "metadata": {},
   "outputs": [],
   "source": [
    "# # fill NA values in Spatially enabled dataframes (ignores SHAPE column)\n",
    "# def fill_na_sedf(df_with_shape_column, fill_value=0):\n",
    "#     if 'SHAPE' in list(df_with_shape_column.columns):\n",
    "#         df = df_with_shape_column.copy()\n",
    "#         shape_column = df['SHAPE'].copy()\n",
    "#         del df['SHAPE']\n",
    "#         return df.fillna(fill_value).merge(shape_column,left_index=True, right_index=True, how='inner')\n",
    "#     else:\n",
    "#         raise Exception(\"Dataframe does not include 'SHAPE' column\")"
   ]
  },
  {
   "cell_type": "code",
   "execution_count": 3,
   "metadata": {},
   "outputs": [],
   "source": [
    "if not os.path.exists('Outputs'):\n",
    "    os.makedirs('Outputs')\n",
    "    \n",
    "outputs = '.\\\\Outputs'\n"
   ]
  },
  {
   "cell_type": "code",
   "execution_count": 4,
   "metadata": {},
   "outputs": [],
   "source": [
    "geog = pd.DataFrame.spatial.from_featureclass(r\".\\Inputs\\WC_2050_Centers.shp\") \n",
    "field_name = 'AreaName'\n",
    "json_field_name = 'CenterName'"
   ]
  },
  {
   "cell_type": "code",
   "execution_count": 13,
   "metadata": {},
   "outputs": [],
   "source": [
    "f = open(os.path.join(outputs, \"CENTER_DevAcres.json\"), \"a\")\n",
    "f.write(\"[\\n\")\n",
    "\n",
    "for index, row in geog.iterrows(): \n",
    "    \n",
    "    name = row[field_name].replace(\"/\", \" \").replace(\".\", \"\").replace(\"'\", \"\")\n",
    "\n",
    "    f.write(\"\\t{\\n\")\n",
    "    f.write('''\\t\\t\"{}\":\"{}\",\\n'''.format(json_field_name, name))\n",
    "    f.write('''\\t\\t\"DEVACRES\":{}\\n'''.format(row['DEVACRES']))\n",
    "    \n",
    "    if index == geog.index[-1]:\n",
    "        f.write(\"\\t}\\n\")\n",
    "    else:\n",
    "      f.write(\"\\t},\\n\")  \n",
    "    \n",
    "\n",
    "\n",
    "f.write(\"]\\n\")\n",
    "f.close()"
   ]
  },
  {
   "cell_type": "code",
   "execution_count": null,
   "metadata": {},
   "outputs": [],
   "source": []
  }
 ],
 "metadata": {
  "kernelspec": {
   "display_name": "Python 3.7.11",
   "language": "python",
   "name": "python3"
  },
  "language_info": {
   "codemirror_mode": {
    "name": "ipython",
    "version": 3
   },
   "file_extension": ".py",
   "mimetype": "text/x-python",
   "name": "python",
   "nbconvert_exporter": "python",
   "pygments_lexer": "ipython3",
   "version": "3.9.11"
  },
  "orig_nbformat": 4,
  "vscode": {
   "interpreter": {
    "hash": "3245673af07dcc28bdd829afb187282e9288a1f8195a5928b70ecba6e5973721"
   }
  }
 },
 "nbformat": 4,
 "nbformat_minor": 2
}
